{
  "nbformat": 4,
  "nbformat_minor": 0,
  "metadata": {
    "colab": {
      "provenance": []
    },
    "kernelspec": {
      "name": "python3",
      "display_name": "Python 3"
    },
    "language_info": {
      "name": "python"
    }
  },
  "cells": [
    {
      "cell_type": "markdown",
      "source": [
        "## **Assignments03(240501)**\n",
        "### 1. basic.User class\n",
        "- DTO: Data Transfer Object\n",
        "- VO: Value Object\n",
        "- Entity\n"
      ],
      "metadata": {
        "id": "8R0sRoAAv7lj"
      }
    },
    {
      "cell_type": "markdown",
      "source": [
        "## **Static**\n",
        "- 정적이다 = 메모리에서 삭제되지 않음\n",
        "- 계속 사용 가능한 변수와 메소드\n",
        "- 여러 클래스에서 공통으로 사용되는 변수나 메소드를 static 키워드를 통해 구현하는 것이 좋음"
      ],
      "metadata": {
        "id": "gRx5qNwF-0ee"
      }
    },
    {
      "cell_type": "markdown",
      "source": [
        "## **Inherit(상속)**\n",
        "- 부모클래스\n",
        "  - 공통된 속성과 기능을 가지고 있음\n",
        "  - 자식클래스의 변수를 받아서 이용할 수 x\n",
        "\n",
        "- 자식클래스\n",
        "  - 부모클래스의 속성과 기능을 이용\n",
        "    - 부모클래스로부터 상속 받았기 때문\n",
        "  - 자식클래스만의 속성과 기능을 추가할 수도 있음\n",
        "    - 부모클래스 타입의 변수를 받아서 사용할 수도 있음\n",
        "  \n",
        "- 의의\n",
        "  - 소스코드의 재사용성이 높아짐\n",
        "  - 소스코드를 단축할 수 있음\n",
        "- 사용법\n",
        "```\n",
        "  public 자식클래스 extends 부모클래스{\n",
        "\n",
        "  }\n",
        "```\n",
        "\n",
        "class를 생성하면서 super browser를 선택해두면 별도의 타입 작업 없이 상속한 채로 클래스가 생성된다"
      ],
      "metadata": {
        "id": "OMjkYyVhEoBe"
      }
    },
    {
      "cell_type": "markdown",
      "source": [
        "### 팁 및 궁금한 내용에 대한 답\n",
        "- 오버라이딩과 오버로딩의 차이\n",
        "  - 오버라이딩: 상속과 관련이 있으며 메서드의 재정의\n",
        "  - 오버로딩: 메소드 이름의 다양한 형태\n",
        "- 메소드와 펑션의 차이\n",
        "  - 일반적으로 둘을 크게 구분하지 않음\n",
        "    - 클래스 내부에 정의되어 해당 클래스의 객체에 속함\n",
        "    - 객체의 상태를 변경하거나 작업을 수행하는 역할\n",
        "    - 주로 객체의 동작을 구현하는 데 사용\n",
        "  - 메소드\n",
        "      - 객체 지향 프로그래밍에서의 기능을 지칭함\n",
        "  - 펑션\n",
        "    - 절차 지향 프로그래밍에서의 함수를 지칭함\n",
        "- 필드값을 입력할 떄 접근제어자를 입력하지 않은 경우\n",
        "  - package private으로 설정됨\n",
        "    - 같은 패키지 내의 다른 클래스에서는 필드에 직접 접근할 수 있음\n",
        "    - 다른 패키지의 클래스에서는 접근할 수 없음\n",
        "- alt shift s s = toString을 만듦\n",
        "  - 메소드를 오버라이딩해서 toString을 정의하면? -> 필드값을 볼 수 있음\n",
        "  - 그렇게 하지 않으면 그냥 패키지와 주소값만을 알게 됨\n",
        "  - 원하는 정보를 얻기 위해서는 메소드를 오버라이딩해서 toString을 정의 내리면 내가 원하는 값을 알게 되는 것."
      ],
      "metadata": {
        "id": "8-fkkkewVPIW"
      }
    },
    {
      "cell_type": "markdown",
      "source": [
        "### **Abstraction(추상화)**\n",
        "- 객체를 단순화하는 작업 -> 유지보수가능성의 상승(재사용성, 가독성)\n"
      ],
      "metadata": {
        "id": "Rn72ffwYDqek"
      }
    }
  ]
}