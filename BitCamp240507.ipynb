{
  "nbformat": 4,
  "nbformat_minor": 0,
  "metadata": {
    "colab": {
      "provenance": []
    },
    "kernelspec": {
      "name": "python3",
      "display_name": "Python 3"
    },
    "language_info": {
      "name": "python"
    }
  },
  "cells": [
    {
      "cell_type": "markdown",
      "source": [
        "## **01. Assignments05 Review**\n",
        "---\n"
      ],
      "metadata": {
        "id": "GsI8P7c1gmiR"
      }
    },
    {
      "cell_type": "markdown",
      "source": [
        "### **1-1.Middle_RemoveDuplicated**\n",
        "---\n",
        "#### CommonMultiple\n",
        "- 문제 다시 읽고 다시 풀어보기\n",
        "  - 문제에서 제시한 조건\n",
        "    - **'인덱스 번호'**가 3과 5의 공배수일 때이므로\n",
        "    - aaabbb → aaa3b5\n",
        "  - 내가 풀었던 조건\n",
        "    - **'문자열의 자리'**가 3과 5의 공배수일 때이므로\n",
        "    - aaabbb → aa3b5b"
      ],
      "metadata": {
        "id": "cKhypGfogt_4"
      }
    },
    {
      "cell_type": "markdown",
      "source": [
        "### **1-2. Tips**\n",
        "----\n",
        "#### Replace\n",
        "- 기존의 문자열에 있던 문자를 다른 문자로 대체하는 기능\n",
        "\n",
        "```\n",
        "newExample = originExample.replace(Target, Replacement)\n",
        "```\n",
        "\n",
        "#### Round\n",
        "- 주어진 값을 정수형태로 반올림하는 기능\n",
        "- Excel에서 round함수를 떠올리면 기능을 기억하기 쉽다.\n",
        "\n",
        "```\n",
        "example = math.round();\n",
        "```"
      ],
      "metadata": {
        "id": "K9rcDydUkDrY"
      }
    },
    {
      "cell_type": "markdown",
      "source": [
        "## **02. Lecture**\n",
        "---"
      ],
      "metadata": {
        "id": "Ecsi_9oT6Fna"
      }
    },
    {
      "cell_type": "markdown",
      "source": [
        "### **2-1.NestedClass(중첩 클래스)**\n",
        "---\n",
        "- 클래스 내부에 다른 클래스를 정의하는 것\n",
        "- 구분\n",
        "  - 외부 클래스: 중첩 클래스를 감싸고 있는 외부 클래스\n",
        "  - 내부 클래스: 중첩 클래스\n",
        "- 종류\n",
        "  - 정적 중첩 클래스\n",
        "    - 외부 클래스에 static 키워드로 생성된 변수와 메소드에 접근할 수 있음\n",
        "      - 클래스변수(정적 변수, 스태틱 변수)\n",
        "      - 멤버변수(인스턴스 변수, 어트리뷰트, 속성, ...)\n",
        "      - 인스턴스 메소드\n",
        "      - 클래스 메소드(스태틱 메소드, 정적 메소드)\n",
        "    - 중첩 클래스 자체가 static\n",
        "      - 따라서, 컴파일러가 메모리에 바로 올라가기 때문에 외부 클래스의 멤버 변수나 인스턴트 메소드는 객체가 생성된 후에 사용할 수 있음\n",
        "    - 외부 클래스의 객체 생성 없이도 객체를 만들 수 있음\n",
        "  - 인스턴스 중첩 클래스\n",
        "    - 외부 클래스의 객체가 생성된 후에 객체를 만들 수 있음\n",
        "    - 외부 클래스의 모든 인스턴스 변수와 메소드에 접근 가능\n",
        "  - 지역 중첩 클래스\n",
        "    - 메소드 내부에 선언되는 중첩 클래스\n",
        "    - 메소드의 호출이 끝나면 사용 할 수 없으므로 중첩 클래스가 선언된 메소드 안에서만 사용가능\n",
        "    - 중첩클래스가 선언된 메소드에서 객체를 만들어 사용\n",
        "    - 객체를 생성할 수 없음\n",
        "  - 익명 중첩 클래스\n",
        "    - 인터페이스나 추상 클래스를 구현한 클래스의 인스턴스를 생성할 때 사용\n",
        "    - 클래스의 이름이 없고, 선언과 동시에 인스턴스를 생성함\n",
        "    - 외부 클래스나 메소드의 매개변수, 로컬 변수에 접근 가능"
      ],
      "metadata": {
        "id": "3Mn8bLQ_6Zfj"
      }
    },
    {
      "cell_type": "markdown",
      "source": [
        "### **2-2. ObjectArray(객체 배열)**\n",
        "---\n",
        "- 동일한 타입의 객체를 여러개 저장할 수 있는 배열\n",
        "- 초기화(값 대입)\n",
        "  - 객체 배열은 선언 시 모든 요소들이 null값\n",
        "  - 따라서, null체크를 하여 예외가 발생하지 않도록 해야 함\n",
        "  - 크기 값을 변경할 수 없으므로 null값이 없는 배열을 사용하려면 지금까지 입력된 객체들만 모아 다시 새로운 배열로 만들어야 함"
      ],
      "metadata": {
        "id": "3a_lTaMZd3uz"
      }
    },
    {
      "cell_type": "markdown",
      "source": [
        "### **2-3. Exception(예외, 에러, 오류)**\n",
        "---\n",
        "#### Try ~ Catch ~ Finally\n",
        "- 작동순서\n",
        "  - Try 블록에 실행될 코드 작성 → 작성된 코드에서 에러 발생\n",
        "  - Catch 브록으로 이동해서 예외처리 실시\n",
        "  - Finally 블록은 예외가 발생 여부와 상관없이 무조건 실행되는 블록으로 개발자의 선택사항\n",
        "- Tips\n",
        "  - Try ~ Catch만 있어도 에러가 나는 것이라도 끊기지 않고 반복할 수 있음.\n",
        "  - Catch 부분은 어떤 에러가 날 것인지 상세하게 작성할 필요가 있음.\n",
        "\n",
        "#### 메소드에서 예외 선언(Throws)\n",
        "- 메소드를 호출한 곳에 예외 전달\n",
        "- 리턴타입 메소드명(매개변수) throws 예외클래스\n",
        "\n",
        "#### CheckedException\n",
        "- 무조건 예외처리를 해야 하는 에러\n",
        "- 예외처리를 한 번 했음에도 불구하고 또 에러가 발생할 때 그것은 checkedException이다.\n",
        "- 이건 무조건 throws로 다시 날리기보다 Try ~ Catch로 예외처리를 확실하게 해주는 것이 좋다."
      ],
      "metadata": {
        "id": "WoDWeAt2vf_4"
      }
    },
    {
      "cell_type": "markdown",
      "source": [
        "### **2-4. Java.lang 패키지**\n",
        "---\n"
      ],
      "metadata": {
        "id": "kmGwZmhnE4Ed"
      }
    },
    {
      "cell_type": "markdown",
      "source": [
        "## **ToDoList**\n",
        "---"
      ],
      "metadata": {
        "id": "bsMAuatUjOmZ"
      }
    },
    {
      "cell_type": "markdown",
      "source": [
        "### **Assignments05**\n",
        "---\n",
        "- 강사님 풀이를 따라서 풀어보기\n",
        "- 내 방식대로 다시 풀어보기\n",
        "  - 문제를 잘못 읽은 부분 존재 → 지속적으로 발생하는 문제(주의하기)"
      ],
      "metadata": {
        "id": "6DYoJoQvjhyI"
      }
    }
  ]
}