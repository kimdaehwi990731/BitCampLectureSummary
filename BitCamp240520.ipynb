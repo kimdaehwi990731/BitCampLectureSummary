{
  "nbformat": 4,
  "nbformat_minor": 0,
  "metadata": {
    "colab": {
      "provenance": []
    },
    "kernelspec": {
      "name": "python3",
      "display_name": "Python 3"
    },
    "language_info": {
      "name": "python"
    }
  },
  "cells": [
    {
      "cell_type": "markdown",
      "source": [
        "### **Data IO(데이터 입출력)**\n",
        "---\n",
        "- 양방향 데이터 입출력 스트림\n",
        "  - 데이터를 A에서 B로 보냄과 동시에 B에서 A로 보는 경우\n",
        "  - 서로에게 출력 스트림이자 입력 스트림\n",
        "---\n",
        "##### **01. 바이트 출력 스트림**\n",
        "- OutputStream을 상속받아 구현\n",
        "\n",
        "- 응용 함수\n",
        "  - vloid flush()\n",
        "    - 버퍼에 남아있는 모든 바이트 출력\n",
        "  -  void close()\n",
        "    - 출력 스트림을 메모리에서 해제\n",
        "\n",
        "- 참고(팁)\n",
        "  - _01_과 _02_의 값을 비교했을 때, 똑같이 3개의 값을 입력했음에도 불구하고 _02_에만 3개의 값이 들어간 까닭은 0은 공백이기 때문이다.\n",
        "  - _02_의 경우 1~3까지의 바이트를 입력함.\n",
        "---\n",
        "##### **02. 바이트 입력 스트림**\n",
        "- InputStream을 상속받아 구현\n",
        "\n",
        "- 응용 함수\n",
        "  - int read()\n",
        "    - 1 byte를 읽은 후 읽은 바이트를 i  nt형으로 리턴\n",
        "  - int read(byte[])\n",
        "    - 읽은 바이트를 매개변수로 주어진 배열에 저장한 후 읽은 바이트의 수를 리턴\n",
        "  - transferTo()\n",
        "    - 파일을 복사할 수 있음\n",
        "    - Java 9 버전 이후 사용 가능\n",
        "---\n",
        "##### **03. 문자 출력 스트림**\n",
        "- Writer를 상속받아 구현\n",
        "\n",
        "- 응용 함수\n",
        "  - void write(int c)\n",
        "    - 매개변수로 받아온 문자(유니코드에 해당하는) 한 개 출력\n",
        "  - void write(char[] c)\n",
        "    - 배열의 모든 문자 출력\n",
        "  - void write(char[] c, int start, int cnt)\n",
        "    - start부터 cnt개의 모든 문자 출력\n",
        "  - void write(String str)\n",
        "    - 문자열 모두 출력\n",
        "  - void write(String str, int start, int cnt)\n",
        "    - start부터 cnt개의 모든 문자열 출력\n",
        "\n",
        "---\n",
        "##### **04. 문자 입력 스트림**\n",
        "- Reader을 상속받아서 구현\n",
        "\n",
        "- 응용 함수\n",
        "  - int read()\n",
        "    - 1개 문자를 읽고 리턴\n",
        "  - int read(char[] charr)\n",
        "    - 읽은 문자들을 매개변수로 받아온 charr에 저장하고 저장된 개수 리턴.\n",
        "\n",
        "- 참고(팁)\n",
        "  - String 형식은 불가하기 때문에, char 타입으로 변경하여 입력해야 한다.\n"
      ],
      "metadata": {
        "id": "PvLeYgT_b2A5"
      }
    },
    {
      "cell_type": "markdown",
      "source": [
        "### **ToDoList**\n",
        "---\n",
        "- tStory 업로드"
      ],
      "metadata": {
        "id": "O86TTDsnb9t3"
      }
    },
    {
      "cell_type": "markdown",
      "source": [
        "질문드릴 것\n",
        "peek과 map의 차이는 어떤 것이 있는지"
      ],
      "metadata": {
        "id": "Tt5gMUmJdGBo"
      }
    }
  ]
}