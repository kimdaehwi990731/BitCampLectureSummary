{
  "nbformat": 4,
  "nbformat_minor": 0,
  "metadata": {
    "colab": {
      "provenance": []
    },
    "kernelspec": {
      "name": "python3",
      "display_name": "Python 3"
    },
    "language_info": {
      "name": "python"
    }
  },
  "cells": [
    {
      "cell_type": "markdown",
      "source": [
        "## **Assignemtns04**\n",
        "--------"
      ],
      "metadata": {
        "id": "-dKJORmXG77K"
      }
    },
    {
      "cell_type": "markdown",
      "source": [
        "### **Advance01. ArrayUtility02**\n",
        "#### **Set**\n",
        "  - 중복값을 허용하지 않는 성질\n",
        "\n",
        "#### **Stream**\n",
        "  - 내부 반복(Internal Iteration)\n",
        "    - 사용자가 명시적으로 요소 반복 x\n",
        "    - Stream API에 의해 처리되는 것\n"
      ],
      "metadata": {
        "id": "wky5HY_hHalS"
      }
    },
    {
      "cell_type": "markdown",
      "source": [
        "### Advance02. Employee(UseOfEmployee)\n",
        "---\n",
        "###### **방법 1**\n",
        "1. 메뉴 형성 단계\n",
        "  - while문을 활용한 반복문을 형성\n",
        "    - 잘못된 메뉴 번호를 입력 받을 경우 다시 메뉴창을 띄워주기 위함\n",
        "  - 메뉴값을 입력 받을 변수 하나를 생성\n",
        "  - 해당 번호에 맞춰 각 데이터들을 입력 받거나 출력하도록 유도\n",
        "\n",
        "2. 정규직/계약직/임시직 사원의 정보를 입력 받고 저장하는 단계\n",
        "  - 각 정보들을 입력받기\n",
        "    - 입력 받은 정보는 하나의 배열\n",
        "  - 정규직/계약직/임시직 객체를 생성하고, empArr[]에 하나씩 넣기\n",
        "    - empArr[] = (Employee{}, Employee{}, Employee{}, Employee{} ...}\n",
        "    - 위 상황이므로 정규직/계약직/임시직 객체를 생성하고 empArr[]에 넣는 것\n",
        "\n",
        "3. 저장된 정보를 출력하는 것\n",
        "  - for문을 활용해 해당 인덱스의 정보를 출력\n",
        "  - 사번을 받아 정보를 출력하는 경우\n",
        "    - empArr[]에서 입력 받은 사번이 동일 할 때 정보를 출력하도록 조건문 작성\n",
        "\n",
        "4. 프로그램을 종료할 때는 import했던 Scanner을 닫고, 시스템을 종료하도록 한다.\n",
        "---\n",
        "###### **방법 2**\n",
        "- **[방법1의 2단계 과정]**에서 반복되는 문장이 많으므로 하나의 메소드로 해당 소스코드의 길이를 짧게 줄이는 방법\n",
        "\n",
        "1. 사원의 정보를 입력 받는 과정을 하나의 메소드로 만들어 진행\n"
      ],
      "metadata": {
        "id": "s2eB_OMdUBx0"
      }
    },
    {
      "cell_type": "markdown",
      "source": [
        "## **Interface**\n",
        "---\n"
      ],
      "metadata": {
        "id": "uaDTEVK3emZm"
      }
    },
    {
      "cell_type": "markdown",
      "source": [
        "### **Traits**\n",
        "  - 선언된 변수나 메소드의 접근제어자는 무조건 public\n",
        "  - 추상화 클래스보다 추상화 레벨이 더 높은 클래스\n",
        "    - 추상화: 인스턴스 변수, 인스턴스 메소드, 추상 메소드를 가질 수 있음\n",
        "\n",
        "#### **정의 방법**\n",
        "```\n",
        "interface interfaceName{자료형 ...; public void ... ();}\n",
        "```\n",
        "\n",
        "#### **Inherit**\n",
        "- 다중 상속 가능(클래스와 클래스 간 상속에서는 단일 상속만 가능)\n",
        "  - 클래스와 인터페이스 간 상속: implements 활용\n",
        "  - 인터페이스와 인터페이스 간 상속: extends 활용\n",
        "  - 한 클래스에서 클래스와 인터페이스를 동시에 상속 받을 수도 있음.\n",
        "    ```\n",
        "    public class SeoulMultiFlexStadium extends Theater implements MultiFlexStadium {}\n",
        "    ```\n",
        "  "
      ],
      "metadata": {
        "id": "eGAT3sVjy0m2"
      }
    },
    {
      "cell_type": "markdown",
      "source": [
        "### **Elements**\n",
        "#### **Variables**\n",
        "- public static final로 시작해야 함.(생략 가능)\n",
        "\n",
        "#### **Object**\n",
        "- 추상화 클래스의 일종이기 때문에 객체를 만들 수 없음\n",
        "- 자식 객체를 사용\n",
        "- 변수를 선언할 때, 타입으로는 지정 가능\n",
        "\n",
        "#### **Method**\n",
        "- public abstract로 시작해야 함.(생략 가능)\n",
        "\t- static 메소드 구현 가능: 메모리에 바로 저장 및 사용할 수 있는 상태가 되기 때문에 완벽한 메소드 형태로 만들어야 함\n",
        "\t- **static 메소드는 static 메소드가 정의되어 있는 클래스명으로 호출한다.**\n",
        "- 1.8 이상부터는 deafult 메소드도 사용 가능\n",
        "- 추상 메소드이기 때문에 구현부({}블록)을 만들 수 없음\n",
        "\n",
        "- DefaultMethod\n",
        "\t- 인터페이스에 기능을 추가하면 상속 받은 모든 자식 클래스를 수정해야 함(에러 발생)\n",
        "\t- default 메소드는 인터페이스에 구현부({}블록)까지 만들 수 있음\n",
        "\t- 상속 받은 클래스에서 오버라이드 할 수 있음\n",
        "\n",
        "```\n",
        "default void reset() {\n",
        "\tSystem.out.println(\"장치를 리셋한다.\");\n",
        "}\n",
        "```"
      ],
      "metadata": {
        "id": "3ieA8Eg7zfJ9"
      }
    },
    {
      "cell_type": "markdown",
      "source": [
        "## **ToDoList**\n",
        "--------"
      ],
      "metadata": {
        "id": "HH1pO8sbHjjy"
      }
    },
    {
      "cell_type": "markdown",
      "source": [
        "### **Assignments04 Review**\n",
        "#### **Advance01**\n",
        "- Middle03을 반복해서 풀었으므로 해당 문제를 혼자 풀어본 적 없음\n",
        "  - 따라서, 해당 문제를 해결하기 위해서 혼자 생각해보고 다시 풀이를 참고해야 함\n",
        "  - 강의 영상 및 강사님 풀이 참고하여 비교하고, 챗gpt는 어떻게 다른 방식으로 코드를 진행했는지 확인해야 함\n",
        "\n",
        "#### **Advance02**\n",
        "- showEmployeeInfo() 구현하는 것이 빠졌음 --> 구현하기\n",
        "- UseOfEmployee\n",
        "  - 방법1과 방법2 모두 하나의 개별 클래스로 생성하여 스스로 다시 풀고, 해당 코드가 무엇을 의미하는지 생각해보기"
      ],
      "metadata": {
        "id": "RO9Wi6XCHqb6"
      }
    },
    {
      "cell_type": "markdown",
      "source": [
        "### **Study**\n",
        "- 강사님께서 올려주신 자료 요약/정리하여 ppt만들고 pdf로 저장하기."
      ],
      "metadata": {
        "id": "AID3K00l2zte"
      }
    }
  ]
}